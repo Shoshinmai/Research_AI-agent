{
 "cells": [
  {
   "cell_type": "code",
   "execution_count": 1,
   "metadata": {},
   "outputs": [],
   "source": [
    "import os\n",
    "gemini_key = os.getenv(\"gemini_api_key\")"
   ]
  },
  {
   "cell_type": "code",
   "execution_count": 2,
   "metadata": {},
   "outputs": [],
   "source": [
    "from langchain_google_genai import ChatGoogleGenerativeAI\n",
    "from langchain.prompts import ChatPromptTemplate\n",
    "from langchain.prompts import HumanMessagePromptTemplate\n",
    "llm = ChatGoogleGenerativeAI(model= \"gemini-2.0-flash\", temperature = 0, google_api_key = gemini_key, convert_system_message_to_human=True)"
   ]
  },
  {
   "cell_type": "code",
   "execution_count": 3,
   "metadata": {},
   "outputs": [],
   "source": [
    "import os, getpass\n",
    "\n",
    "def _set_env(var: str):\n",
    "    if not os.environ.get(var):\n",
    "        os.environ[var] = getpass.getpass(f\"{var}: \")"
   ]
  },
  {
   "cell_type": "code",
   "execution_count": 4,
   "metadata": {},
   "outputs": [],
   "source": [
    "_set_env(\"LC_API_KEY\")\n",
    "os.environ[\"LANGCHAIN_TRACING_V2\"] = \"true\"\n",
    "os.environ[\"LANGCHAIN_PROJECT\"] = \"Research-Agent\""
   ]
  },
  {
   "cell_type": "code",
   "execution_count": 5,
   "metadata": {},
   "outputs": [],
   "source": [
    "from typing import List\n",
    "from typing_extensions import TypedDict\n",
    "from pydantic import BaseModel, Field\n",
    "\n",
    "class Analyst(BaseModel):\n",
    "    affiliation: str = Field(\n",
    "        description=\"Primary affliation of the analyst.\"\n",
    "    )\n",
    "    name: str= Field(\n",
    "        description=\"Name of the analyst(Name of the human who is analyst).\"\n",
    "    )\n",
    "    role: str= Field(\n",
    "        description=\"Role of the analyst in the context of the topic.\"\n",
    "    )\n",
    "    description:str = Field(\n",
    "        description=\"Description of the analyst focus, concern and motives.\"\n",
    "    )\n",
    "    \n",
    "    def persona(self) -> str:\n",
    "        return f\"Name: {self.name}\\nRole: {self.role}\\nAffiliation: {self.affiliation}\\nDescription: {self.description}\\n\"\n",
    "    \n",
    "class Perspectives(BaseModel):\n",
    "    analysts: List[Analyst]= Field(\n",
    "        description=\"Comprehensive list of analysts with thier roles and affiliation\"\n",
    "    ) \n",
    "\n",
    "class GenerateAnalystState(TypedDict):\n",
    "    topic: str\n",
    "    max_analyst: str\n",
    "    human_analyst_feedback: str\n",
    "    analysts: List[Analyst]"
   ]
  },
  {
   "cell_type": "code",
   "execution_count": 10,
   "metadata": {},
   "outputs": [
    {
     "data": {
      "image/png": "[encoded data removed]",
      "text/plain": [
       "<IPython.core.display.Image object>"
      ]
     },
     "metadata": {},
     "output_type": "display_data"
    }
   ],
   "source": [
    "from IPython.display import Image, display\n",
    "from langgraph.graph import START, END, StateGraph\n",
    "from langgraph.checkpoint.memory import MemorySaver\n",
    "from langchain_core.messages import AIMessage, HumanMessage, SystemMessage,ChatMessage \n",
    "\n",
    "def create_analysts(state: GenerateAnalystState):\n",
    "    topic= state[\"topic\"]\n",
    "    max_analysts = state[\"max_analyst\"]\n",
    "    human_analyst_feedback = state.get(\"human_analyst_feedback\", \"\")\n",
    "    analyst_instructions=f\"\"\"You are tasked with creating a set of AI analyst personas. Follow these instructions carefully:\n",
    "\n",
    "    1. First, review the research topic:\n",
    "    {topic}\n",
    "            \n",
    "    2. Examine any editorial feedback that has been optionally provided to guide creation of the analysts: \n",
    "            \n",
    "    {human_analyst_feedback}\n",
    "        \n",
    "    3. Determine the most interesting themes based upon documents and / or feedback above.\n",
    "                        \n",
    "    4. Pick the top {max_analysts} themes.\n",
    "\n",
    "    5. Assign one analyst to each theme.\"\"\"\n",
    "    \n",
    "    structured_llm = llm.with_structured_output(Perspectives)\n",
    "    \n",
    "    # system_message = analyst_instructions.format(topic = topic, max_analysts = max_analysts, human_analyst_feedback = human_analyst_feedback)\n",
    "    \n",
    "    analysts = structured_llm.invoke([analyst_instructions]+[HumanMessage(content=\"generate the set of analysts.\")])\n",
    "    \n",
    "    return {\"analysts\": analysts.analysts}\n",
    "\n",
    "def human_feedback(state: GenerateAnalystState):\n",
    "    \"\"\" No-op node that should be interrupted on \"\"\"\n",
    "    pass\n",
    "\n",
    "def should_continue(state: GenerateAnalystState):\n",
    "    \n",
    "    human_analyst_feedback = state.get(\"human_analyst_feedback\", None)\n",
    "    if human_analyst_feedback:\n",
    "        return \"create_analysts\"\n",
    "    return END\n",
    "\n",
    "builder = StateGraph(GenerateAnalystState)\n",
    "builder.add_node(\"create_analysts\", create_analysts)\n",
    "builder.add_node(\"human_feedback\", human_feedback)\n",
    "builder.add_edge(START, \"create_analysts\")\n",
    "builder.add_edge(\"create_analysts\", \"human_feedback\")\n",
    "builder.add_conditional_edges(\"human_feedback\", should_continue, [\"create_analysts\", END])\n",
    "\n",
    "memory = MemorySaver()\n",
    "graph = builder.compile(interrupt_before = [\"human_feedback\"], checkpointer = memory)\n",
    "\n",
    "display(Image(graph.get_graph(xray= 1).draw_mermaid_png()))"
   ]
  },
  {
   "cell_type": "code",
   "execution_count": 11,
   "metadata": {},
   "outputs": [
    {
     "name": "stderr",
     "output_type": "stream",
     "text": [
      "d:\\AI_dev\\ML\\project\\Agents\\Research_AI-agent\\agentenv\\Lib\\site-packages\\langchain_google_genai\\chat_models.py:388: UserWarning: Convert_system_message_to_human will be deprecated!\n",
      "  warnings.warn(\"Convert_system_message_to_human will be deprecated!\")\n"
     ]
    },
    {
     "name": "stdout",
     "output_type": "stream",
     "text": [
      "Name: Alice Johnson\n",
      "Affiliation: Independent AI Consultant\n",
      "Role: Technology Adoption Strategist\n",
      "Description: Focuses on the practical applications and efficiency gains of new AI technologies. Concerned with ease of implementation and ROI.\n",
      "--------------------------------------------------\n",
      "Name: Bob Williams\n",
      "Affiliation: Large Language Model Security Firm\n",
      "Role: AI Security Analyst\n",
      "Description: Dedicated to identifying and mitigating security vulnerabilities in AI systems. Concerned with potential risks and exploits in LangGraph.\n",
      "--------------------------------------------------\n",
      "Name: Dr. Carol Davis\n",
      "Affiliation: Academic AI Research Lab\n",
      "Role: AI Research Scientist\n",
      "Description: Interested in the theoretical advancements and potential research directions enabled by LangGraph. Concerned with the framework's impact on the future of AI.\n",
      "--------------------------------------------------\n"
     ]
    }
   ],
   "source": [
    "max_analysts = 3 \n",
    "topic = \"The benefits of adopting LangGraph as an agent framework\"\n",
    "thread = {\"configurable\": {\"thread_id\": \"3\"}}\n",
    "\n",
    "# Run the graph until the first interruption\n",
    "for event in graph.stream({\"topic\":topic,\"max_analyst\":max_analysts,}, thread, stream_mode=\"values\"):\n",
    "    # Review\n",
    "    analysts = event.get('analysts', '')\n",
    "    if analysts:\n",
    "        for analyst in analysts:\n",
    "            print(f\"Name: {analyst.name}\")\n",
    "            print(f\"Affiliation: {analyst.affiliation}\")\n",
    "            print(f\"Role: {analyst.role}\")\n",
    "            print(f\"Description: {analyst.description}\")\n",
    "            print(\"-\" * 50) "
   ]
  },
  {
   "cell_type": "code",
   "execution_count": 12,
   "metadata": {},
   "outputs": [],
   "source": [
    "# memory.delete_thread(thread[\"configurable\"][\"thread_id\"])"
   ]
  },
  {
   "cell_type": "code",
   "execution_count": 13,
   "metadata": {},
   "outputs": [
    {
     "data": {
      "text/plain": [
       "('human_feedback',)"
      ]
     },
     "execution_count": 13,
     "metadata": {},
     "output_type": "execute_result"
    }
   ],
   "source": [
    "state = graph.get_state(thread)\n",
    "state.next"
   ]
  },
  {
   "cell_type": "code",
   "execution_count": 14,
   "metadata": {},
   "outputs": [
    {
     "data": {
      "text/plain": [
       "{'configurable': {'thread_id': '3',\n",
       "  'checkpoint_ns': '',\n",
       "  'checkpoint_id': '1f032488-116d-6586-8002-d25b6301d2a4'}}"
      ]
     },
     "execution_count": 14,
     "metadata": {},
     "output_type": "execute_result"
    }
   ],
   "source": [
    "graph.update_state(thread, {\"human_analyst_feedback\": \n",
    "                            \"Add in someone from a startup to add an entrepreneur perspective.\"}, as_node=\"human_feedback\")"
   ]
  },
  {
   "cell_type": "code",
   "execution_count": 16,
   "metadata": {},
   "outputs": [
    {
     "name": "stdout",
     "output_type": "stream",
     "text": [
      "Name: Dr. Anya Sharma\n",
      "Affiliation: Large Language Model Company\n",
      "Role: AI Research Scientist\n",
      "Description: Believes LangGraph is beneficial for creating structured and reliable agent workflows, especially for complex tasks. Focuses on the framework's ability to improve agent consistency and reduce errors.\n",
      "--------------------------------------------------\n",
      "Name: Raj Patel\n",
      "Affiliation: Tech Startup\n",
      "Role: CTO\n",
      "Description: Sees LangGraph as a potential accelerator for development, allowing the startup to quickly prototype and deploy sophisticated AI agents with limited resources. Concerned about the learning curve and integration challenges with existing infrastructure.\n",
      "--------------------------------------------------\n",
      "Name: Kenji Tanaka\n",
      "Affiliation: Independent AI Consultant\n",
      "Role: AI Consultant\n",
      "Description: Interested in LangGraph's flexibility and customizability. Evaluates its suitability for various client needs, focusing on its ability to create tailored agent solutions.  Concerned about the overhead of managing complex graph structures.\n",
      "--------------------------------------------------\n"
     ]
    },
    {
     "name": "stderr",
     "output_type": "stream",
     "text": [
      "d:\\AI_dev\\ML\\project\\Agents\\Research_AI-agent\\agentenv\\Lib\\site-packages\\langchain_google_genai\\chat_models.py:388: UserWarning: Convert_system_message_to_human will be deprecated!\n",
      "  warnings.warn(\"Convert_system_message_to_human will be deprecated!\")\n"
     ]
    },
    {
     "name": "stdout",
     "output_type": "stream",
     "text": [
      "Name: Dr. Anya Sharma\n",
      "Affiliation: Large Language Model Company\n",
      "Role: AI Research Scientist\n",
      "Description: Believes LangGraph is beneficial for creating structured and reliable agent workflows, especially for complex tasks. Focuses on the framework's ability to improve agent consistency and reduce errors.\n",
      "--------------------------------------------------\n",
      "Name: Raj Patel\n",
      "Affiliation: Tech Startup\n",
      "Role: CTO\n",
      "Description: Sees LangGraph as a potential accelerator for development, allowing the startup to quickly prototype and deploy sophisticated AI agents with limited resources. Concerned about the learning curve and integration challenges with existing infrastructure.\n",
      "--------------------------------------------------\n",
      "Name: Kenji Tanaka\n",
      "Affiliation: Independent AI Consultant\n",
      "Role: AI Consultant\n",
      "Description: Interested in LangGraph's flexibility and customizability. Evaluates its suitability for various client needs, focusing on its ability to create tailored agent solutions.  Concerned about the overhead of managing complex graph structures.\n",
      "--------------------------------------------------\n"
     ]
    }
   ],
   "source": [
    "for event in graph.stream(None, thread, stream_mode= \"values\"):\n",
    "    analysts = event.get('analysts', '')\n",
    "    if analysts:\n",
    "        for analyst in analysts:\n",
    "            print(f\"Name: {analyst.name}\")\n",
    "            print(f\"Affiliation: {analyst.affiliation}\")\n",
    "            print(f\"Role: {analyst.role}\")\n",
    "            print(f\"Description: {analyst.description}\")\n",
    "            print(\"-\" * 50) "
   ]
  },
  {
   "cell_type": "code",
   "execution_count": 17,
   "metadata": {},
   "outputs": [
    {
     "data": {
      "text/plain": [
       "{'configurable': {'thread_id': '3',\n",
       "  'checkpoint_ns': '',\n",
       "  'checkpoint_id': '1f032488-b9eb-62f3-8006-4811e0ee22b7'}}"
      ]
     },
     "execution_count": 17,
     "metadata": {},
     "output_type": "execute_result"
    }
   ],
   "source": [
    "further_feedack = None\n",
    "graph.update_state(thread, {\"human_analyst_feedback\": \n",
    "                            further_feedack}, as_node=\"human_feedback\")"
   ]
  },
  {
   "cell_type": "code",
   "execution_count": 18,
   "metadata": {},
   "outputs": [
    {
     "name": "stdout",
     "output_type": "stream",
     "text": [
      "--Node--\n",
      "dict_keys(['topic', 'max_analyst', 'human_analyst_feedback', 'analysts'])\n",
      "topic\n"
     ]
    }
   ],
   "source": [
    "for event in graph.stream(None, thread, stream_mode= 'values'):\n",
    "    print(\"--Node--\")\n",
    "    print(event.keys())\n",
    "    node_name = next(iter(event.keys()))\n",
    "    print(node_name)"
   ]
  },
  {
   "cell_type": "code",
   "execution_count": 19,
   "metadata": {},
   "outputs": [],
   "source": [
    "final_state = graph.get_state(thread)\n",
    "analysts = final_state.values.get('analysts')"
   ]
  },
  {
   "cell_type": "code",
   "execution_count": 20,
   "metadata": {},
   "outputs": [
    {
     "data": {
      "text/plain": [
       "StateSnapshot(values={'topic': 'The benefits of adopting LangGraph as an agent framework', 'max_analyst': 3, 'human_analyst_feedback': None, 'analysts': [Analyst(affiliation='Large Language Model Company', name='Dr. Anya Sharma', role='AI Research Scientist', description=\"Believes LangGraph is beneficial for creating structured and reliable agent workflows, especially for complex tasks. Focuses on the framework's ability to improve agent consistency and reduce errors.\"), Analyst(affiliation='Tech Startup', name='Raj Patel', role='CTO', description='Sees LangGraph as a potential accelerator for development, allowing the startup to quickly prototype and deploy sophisticated AI agents with limited resources. Concerned about the learning curve and integration challenges with existing infrastructure.'), Analyst(affiliation='Independent AI Consultant', name='Kenji Tanaka', role='AI Consultant', description=\"Interested in LangGraph's flexibility and customizability. Evaluates its suitability for various client needs, focusing on its ability to create tailored agent solutions.  Concerned about the overhead of managing complex graph structures.\")]}, next=(), config={'configurable': {'thread_id': '3', 'checkpoint_ns': '', 'checkpoint_id': '1f032488-b9eb-62f3-8006-4811e0ee22b7'}}, metadata={'source': 'update', 'writes': {'human_feedback': {'human_analyst_feedback': None}}, 'step': 6, 'parents': {}, 'thread_id': '3'}, created_at='2025-05-16T11:26:00.995301+00:00', parent_config={'configurable': {'thread_id': '3', 'checkpoint_ns': '', 'checkpoint_id': '1f032488-b9c2-633e-8005-e42e542dfd8f'}}, tasks=())"
      ]
     },
     "execution_count": 20,
     "metadata": {},
     "output_type": "execute_result"
    }
   ],
   "source": [
    "final_state\n"
   ]
  },
  {
   "cell_type": "code",
   "execution_count": 21,
   "metadata": {},
   "outputs": [
    {
     "name": "stdout",
     "output_type": "stream",
     "text": [
      "Name: Dr. Anya Sharma\n",
      "Affiliation: Large Language Model Company\n",
      "Role: AI Research Scientist\n",
      "Description: Believes LangGraph is beneficial for creating structured and reliable agent workflows, especially for complex tasks. Focuses on the framework's ability to improve agent consistency and reduce errors.\n",
      "--------------------------------------------------\n",
      "Name: Raj Patel\n",
      "Affiliation: Tech Startup\n",
      "Role: CTO\n",
      "Description: Sees LangGraph as a potential accelerator for development, allowing the startup to quickly prototype and deploy sophisticated AI agents with limited resources. Concerned about the learning curve and integration challenges with existing infrastructure.\n",
      "--------------------------------------------------\n",
      "Name: Kenji Tanaka\n",
      "Affiliation: Independent AI Consultant\n",
      "Role: AI Consultant\n",
      "Description: Interested in LangGraph's flexibility and customizability. Evaluates its suitability for various client needs, focusing on its ability to create tailored agent solutions.  Concerned about the overhead of managing complex graph structures.\n",
      "--------------------------------------------------\n"
     ]
    }
   ],
   "source": [
    "for analyst in analysts:\n",
    "    print(f\"Name: {analyst.name}\")\n",
    "    print(f\"Affiliation: {analyst.affiliation}\")\n",
    "    print(f\"Role: {analyst.role}\")\n",
    "    print(f\"Description: {analyst.description}\")\n",
    "    print(\"-\" * 50) "
   ]
  },
  {
   "cell_type": "code",
   "execution_count": 22,
   "metadata": {},
   "outputs": [],
   "source": [
    "import operator\n",
    "from typing import Annotated\n",
    "from langgraph.graph import MessagesState\n",
    "\n",
    "class InterviewState(MessagesState):\n",
    "    max_num_turns: int # Number turns of conversation\n",
    "    context: Annotated[list, operator.add] # Source docs\n",
    "    analyst: Analyst # Analyst asking questions\n",
    "    interview: str # Interview transcript\n",
    "    sections: list\n",
    "\n",
    "class SearchQuery(BaseModel):\n",
    "    search_query: str = Field(None, description=\"Search query for retrieval.\")"
   ]
  },
  {
   "cell_type": "code",
   "execution_count": 23,
   "metadata": {},
   "outputs": [],
   "source": [
    "question_instructions = \"\"\"You are an analyst tasked with interviewing an expert to learn about a specific topic. \n",
    "\n",
    "Your goal is boil down to interesting and specific insights related to your topic.\n",
    "\n",
    "1. Interesting: Insights that people will find surprising or non-obvious.\n",
    "        \n",
    "2. Specific: Insights that avoid generalities and include specific examples from the expert.\n",
    "\n",
    "Here is your topic of focus and set of goals: {goals}\n",
    "        \n",
    "Begin by introducing yourself using a name that fits your persona, and then ask your question.\n",
    "\n",
    "Continue to ask questions to drill down and refine your understanding of the topic.\n",
    "        \n",
    "When you are satisfied with your understanding, complete the interview with: \"Thank you so much for your help!\"\n",
    "\n",
    "Remember to stay in character throughout your response, reflecting the persona and goals provided to you.\"\"\"\n",
    "\n",
    "def generate_question(state: InterviewState):\n",
    "    \n",
    "   analyst = state[\"analyst\"]\n",
    "   messages = state[\"messages\"]\n",
    "   question_instructions =  f\"\"\"You are an analyst tasked with interviewing an expert to learn about a specific topic. \n",
    "\n",
    "   Your goal is boil down to interesting and specific insights related to your topic.\n",
    "\n",
    "   1. Interesting: Insights that people will find surprising or non-obvious.\n",
    "         \n",
    "   2. Specific: Insights that avoid generalities and include specific examples from the expert.\n",
    "\n",
    "   Here is your topic of focus and set of goals: {analyst.persona}\n",
    "         \n",
    "   Begin by introducing yourself using a name that fits your persona, and then ask your question.\n",
    "\n",
    "   Continue to ask questions to drill down and refine your understanding of the topic.\n",
    "         \n",
    "   When you are satisfied with your understanding, complete the interview with: \"Thank you so much for your help!\"\n",
    "\n",
    "   Remember to stay in character throughout your response, reflecting the persona and goals provided to you.{messages}\"\"\"\n",
    "   print(f\"State Message ==> {messages}\")\n",
    "   # Generate question \n",
    "   # system_message = question_instructions.format(goals=analyst.persona)\n",
    "   # print(f\"System Message ==> {system_message}\")\n",
    "   # chat_template = ChatPromptTemplate.from_messages(\n",
    "   # [\n",
    "   #    SystemMessage(content= system_message)\n",
    "   # ]+messages\n",
    "   # )\n",
    "   # chat_message =  chat_template.format_messages()\n",
    "   # question = llm.invoke([SystemMessage(content=system_message)]+messages)\n",
    "   question = llm.invoke([question_instructions])\n",
    "   print(\"question ==> \",question)\n",
    "   # Write messages to state\n",
    "   return {\"messages\": [question]}\n",
    " "
   ]
  },
  {
   "cell_type": "code",
   "execution_count": 28,
   "metadata": {},
   "outputs": [],
   "source": [
    "from langchain_community.tools.tavily_search import TavilySearchResults\n",
    "from langchain_community.document_loaders import WikipediaLoader\n",
    "\n",
    "tavily_search = TavilySearchResults(max_results = 3, tavily_api_key = os.getenv(\"tavily_api_key\"))"
   ]
  },
  {
   "cell_type": "code",
   "execution_count": 29,
   "metadata": {},
   "outputs": [
    {
     "data": {
      "text/plain": [
       "\"HTTPError('401 Client Error: Unauthorized for url: https://api.tavily.com/search')\""
      ]
     },
     "execution_count": 29,
     "metadata": {},
     "output_type": "execute_result"
    }
   ],
   "source": [
    "tavily_search.invoke(\"what are animals\")"
   ]
  },
  {
   "cell_type": "code",
   "execution_count": 26,
   "metadata": {},
   "outputs": [
    {
     "data": {
      "image/png": "[encoded data removed]",
      "text/plain": [
       "<IPython.core.display.Image object>"
      ]
     },
     "metadata": {},
     "output_type": "display_data"
    }
   ],
   "source": [
    "from langchain_core.messages import get_buffer_string\n",
    "\n",
    "def search_web(state: InterviewState):\n",
    "    search_instructions = f\"\"\"You will be given a conversation between an analyst and an expert. \n",
    "\n",
    "    Your goal is to generate a well-structured query for use in retrieval and / or web-search related to the conversation.\n",
    "            \n",
    "    First, analyze the full conversation.\n",
    "\n",
    "    Pay particular attention to the final question posed by the analyst.\n",
    "\n",
    "    Convert this final question into a well-structured web search query.\n",
    "    In the end you have to say done.{state[\"messages\"]}\"\"\"\n",
    "    structured_llm = llm.with_structured_output(SearchQuery)\n",
    "    # print(f\"Messages == > {state[\"messages\"]}\")\n",
    "    search_query = structured_llm.invoke(search_instructions)\n",
    "    print(f\"search Query ==> {search_query}\")\n",
    "    search_docs = tavily_search.invoke(search_query.search_query)\n",
    "    # print(search_docs)\n",
    "    formatted_search_docs = \"\\n\\n---\\n\\n\".join(\n",
    "        [\n",
    "            # print(\"Docs ==> \",doc)\n",
    "            f'<Document href=\"{doc[\"url\"]}\"/>\\n{doc[\"content\"]}\\n</Document>'\n",
    "            for doc in search_docs\n",
    "        ]\n",
    "    )\n",
    "\n",
    "    return {\"context\": [formatted_search_docs]}\n",
    "\n",
    "def search_wikipedia(state: InterviewState):\n",
    "    search_instructions = f\"\"\"You will be given a conversation between an analyst and an expert. \n",
    "\n",
    "    Your goal is to generate a well-structured query for use in retrieval and / or web-search related to the conversation.\n",
    "            \n",
    "    First, analyze the full conversation.\n",
    "\n",
    "    Pay particular attention to the final question posed by the analyst.\n",
    "\n",
    "    Convert this final question into a well-structured web search query.\n",
    "    In the end you have to say done.{state[\"messages\"]}\"\"\"\n",
    "    structured_llm = llm.with_structured_output(SearchQuery)\n",
    "    search_query = structured_llm.invoke(search_instructions)\n",
    "    print(f\"search Query wiki ==> {search_query}\")\n",
    "    search_docs = WikipediaLoader(query = search_query.search_query, load_max_docs=2).load()\n",
    "    formatted_search_docs = \"\\n\\n---\\n\\n\".join(\n",
    "        [\n",
    "            f'<Document source=\"{doc.metadata[\"source\"]}\" page=\"{doc.metadata.get(\"page\", \"\")}\"/>\\n{doc.page_content}\\n</Document>'\n",
    "            for doc in search_docs\n",
    "        ]\n",
    "    )\n",
    "\n",
    "    return {\"context\": [formatted_search_docs]}\n",
    "\n",
    "answer_instructions = \"\"\"You are an expert being interviewed by an analyst.\n",
    "\n",
    "Here is analyst area of focus: {goals}. \n",
    "        \n",
    "You goal is to answer a question posed by the interviewer.\n",
    "\n",
    "To answer question, use this context:\n",
    "        \n",
    "{context}\n",
    "\n",
    "When answering questions, follow these guidelines:\n",
    "        \n",
    "1. Use only the information provided in the context. \n",
    "        \n",
    "2. Do not introduce external information or make assumptions beyond what is explicitly stated in the context.\n",
    "\n",
    "3. The context contain sources at the topic of each individual document.\n",
    "\n",
    "4. Include these sources your answer next to any relevant statements. For example, for source # 1 use [1]. \n",
    "\n",
    "5. List your sources in order at the bottom of your answer. [1] Source 1, [2] Source 2, etc\n",
    "        \n",
    "6. If the source is: <Document source=\"assistant/docs/llama3_1.pdf\" page=\"7\"/>' then just list: \n",
    "        \n",
    "[1] assistant/docs/llama3_1.pdf, page 7 \n",
    "        \n",
    "And skip the addition of the brackets as well as the Document source preamble in your citation.\n",
    "If you don't known the answer just refuse them politely.\"\"\"\n",
    "\n",
    "def generate_answer(state: InterviewState):\n",
    "    \n",
    "    analyst = state['analyst']\n",
    "    messages = state['messages']\n",
    "    context = state['context']\n",
    "    answer_instructions = f\"\"\"You are an expert being interviewed by an analyst.\n",
    "\n",
    "    Here is analyst area of focus: {analyst.persona}. \n",
    "            \n",
    "    You goal is to answer a question posed by the interviewer.\n",
    "\n",
    "    To answer question, use this context:\n",
    "            \n",
    "    {context}\n",
    "\n",
    "    When answering questions, follow these guidelines:\n",
    "            \n",
    "    1. Use only the information provided in the context. \n",
    "            \n",
    "    2. Do not introduce external information or make assumptions beyond what is explicitly stated in the context.\n",
    "\n",
    "    3. The context contain sources at the topic of each individual document.\n",
    "\n",
    "    4. Include these sources your answer next to any relevant statements. For example, for source # 1 use [1]. \n",
    "\n",
    "    5. List your sources in order at the bottom of your answer. [1] Source 1, [2] Source 2, etc\n",
    "            \n",
    "    6. If the source is: <Document source=\"assistant/docs/llama3_1.pdf\" page=\"7\"/>' then just list: \n",
    "            \n",
    "    [1] assistant/docs/llama3_1.pdf, page 7 \n",
    "            \n",
    "    And skip the addition of the brackets as well as the Document source preamble in your citation.\n",
    "    If you don't known the answer just refuse them politely.{messages}\"\"\"\n",
    "    print(f\"Context ==> {context}\")\n",
    "    answer = llm.invoke(answer_instructions)\n",
    "    print(f\"Answer ==> {answer}\")\n",
    "    answer.name = \"Expert\"\n",
    "    return {\"messages\": [answer]}\n",
    "\n",
    "def save_interview(state: InterviewState):\n",
    "    \n",
    "    \"\"\" Save interviews \"\"\"\n",
    "\n",
    "    # Get messages\n",
    "    messages = state[\"messages\"]\n",
    "    \n",
    "    # Convert interview to a string\n",
    "    interview = get_buffer_string(messages)\n",
    "    \n",
    "    # Save to interviews key\n",
    "    return {\"interview\": interview}\n",
    "\n",
    "def route_messages(state: InterviewState, name: str = 'Expert'):\n",
    "    \n",
    "    messages = state['messages']\n",
    "    max_num_turns = state.get('max_num_turns', 2)\n",
    "    \n",
    "    num_responses = len(\n",
    "        [m for m in messages if isinstance(m, AIMessage) and m.name == name]\n",
    "    )\n",
    "    print(f\"State Message Again ==> {messages}\")\n",
    "    print(f\"num_response ==> {num_responses}\")\n",
    "    if num_responses >= max_num_turns:\n",
    "        return \"save_interview\"\n",
    "    \n",
    "    last_question = messages[-2]\n",
    "    \n",
    "    if \"Thank you so much for your help!\" in last_question.content:\n",
    "        return 'save_interview'\n",
    "    return \"ask_question\"\n",
    "\n",
    "section_writer_instructions = \"\"\"You are an expert technical writer. \n",
    "            \n",
    "Your task is to create a short, easily digestible section of a report based on a set of source documents.\n",
    "\n",
    "1. Analyze the content of the source documents: \n",
    "- The name of each source document is at the start of the document, with the <Document tag.\n",
    "        \n",
    "2. Create a report structure using markdown formatting:\n",
    "- Use ## for the section title\n",
    "- Use ### for sub-section headers\n",
    "        \n",
    "3. Write the report following this structure:\n",
    "a. Title (## header)\n",
    "b. Summary (### header)\n",
    "c. Sources (### header)\n",
    "\n",
    "4. Make your title engaging based upon the focus area of the analyst: \n",
    "{focus}\n",
    "\n",
    "5. For the summary section:\n",
    "- Set up summary with general background / context related to the focus area of the analyst\n",
    "- Emphasize what is novel, interesting, or surprising about insights gathered from the interview\n",
    "- Create a numbered list of source documents, as you use them\n",
    "- Do not mention the names of interviewers or experts\n",
    "- Aim for approximately 400 words maximum\n",
    "- Use numbered sources in your report (e.g., [1], [2]) based on information from source documents\n",
    "        \n",
    "6. In the Sources section:\n",
    "- Include all sources used in your report\n",
    "- Provide full links to relevant websites or specific document paths\n",
    "- Separate each source by a newline. Use two spaces at the end of each line to create a newline in Markdown.\n",
    "- It will look like:\n",
    "\n",
    "### Sources\n",
    "[1] Link or Document name\n",
    "[2] Link or Document name\n",
    "\n",
    "7. Be sure to combine sources. For example this is not correct:\n",
    "\n",
    "[3] https://ai.meta.com/blog/meta-llama-3-1/\n",
    "[4] https://ai.meta.com/blog/meta-llama-3-1/\n",
    "\n",
    "There should be no redundant sources. It should simply be:\n",
    "\n",
    "[3] https://ai.meta.com/blog/meta-llama-3-1/\n",
    "        \n",
    "8. Final review:\n",
    "- Ensure the report follows the required structure\n",
    "- Include no preamble before the title of the report\n",
    "- Check that all guidelines have been followed\"\"\"\n",
    "\n",
    "def write_section(state: InterviewState):\n",
    "\n",
    "    interview = state[\"interview\"]\n",
    "    context = state[\"context\"]\n",
    "    analyst = state[\"analyst\"]\n",
    "    \"\"\" Node to answer a question \"\"\"\n",
    "    section_writer_instructions = f\"\"\"You are an expert technical writer. \n",
    "            \n",
    "    Your task is to create a short, easily digestible section of a report based on a set of source documents.\n",
    "\n",
    "    1. Analyze the content of the source documents: \n",
    "    - The name of each source document is at the start of the document, with the <Document tag.\n",
    "            \n",
    "    2. Create a report structure using markdown formatting:\n",
    "    - Use ## for the section title\n",
    "    - Use ### for sub-section headers\n",
    "            \n",
    "    3. Write the report following this structure:\n",
    "    a. Title (## header)\n",
    "    b. Summary (### header)\n",
    "    c. Sources (### header)\n",
    "\n",
    "    4. Make your title engaging based upon the focus area of the analyst: \n",
    "    {analyst.description}\n",
    "\n",
    "    5. For the summary section:\n",
    "    - Set up summary with general background / context related to the focus area of the analyst\n",
    "    - Emphasize what is novel, interesting, or surprising about insights gathered from the interview\n",
    "    - Create a numbered list of source documents, as you use them\n",
    "    - Do not mention the names of interviewers or experts\n",
    "    - Aim for approximately 400 words maximum\n",
    "    - Use numbered sources in your report (e.g., [1], [2]) based on information from source documents\n",
    "            \n",
    "    6. In the Sources section:\n",
    "    - Include all sources used in your report\n",
    "    - Provide full links to relevant websites or specific document paths\n",
    "    - Separate each source by a newline. Use two spaces at the end of each line to create a newline in Markdown.\n",
    "    - It will look like:\n",
    "\n",
    "    ### Sources\n",
    "    [1] Link or Document name\n",
    "    [2] Link or Document name\n",
    "\n",
    "    7. Be sure to combine sources. For example this is not correct:\n",
    "\n",
    "    [3] https://ai.meta.com/blog/meta-llama-3-1/\n",
    "    [4] https://ai.meta.com/blog/meta-llama-3-1/\n",
    "\n",
    "    There should be no redundant sources. It should simply be:\n",
    "\n",
    "    [3] https://ai.meta.com/blog/meta-llama-3-1/\n",
    "            \n",
    "    8. Final review:\n",
    "    - Ensure the report follows the required structure\n",
    "    - Include no preamble before the title of the report\n",
    "    - Check that all guidelines have been followed\"\"\"\n",
    "    # Get state\n",
    "   \n",
    "    # Write section using either the gathered source docs from interview (context) or the interview itself (interview)\n",
    "    # system_message = section_writer_instructions.format(focus=analyst.description)\n",
    "    # section = llm.invoke([SystemMessage(content=system_message)]+[HumanMessage(content=f\"Use this source to write your section: {context}\")]) \n",
    "    section = llm.invoke([section_writer_instructions]+[HumanMessage(content=f\"Use this source to write your section: {context}\")]) \n",
    "                \n",
    "    # Append it to state\n",
    "    return {\"sections\": [section.content]}\n",
    "\n",
    "# Add nodes and edges \n",
    "interview_builder = StateGraph(InterviewState)\n",
    "interview_builder.add_node(\"ask_question\", generate_question)\n",
    "interview_builder.add_node(\"search_web\", search_web)\n",
    "interview_builder.add_node(\"search_wikipedia\", search_wikipedia)\n",
    "interview_builder.add_node(\"answer_question\", generate_answer)\n",
    "interview_builder.add_node(\"save_interview\", save_interview)\n",
    "interview_builder.add_node(\"write_section\", write_section)\n",
    "\n",
    "# Flow\n",
    "interview_builder.add_edge(START, \"ask_question\")\n",
    "interview_builder.add_edge(\"ask_question\", \"search_web\")\n",
    "interview_builder.add_edge(\"ask_question\", \"search_wikipedia\")\n",
    "interview_builder.add_edge(\"search_web\", \"answer_question\")\n",
    "interview_builder.add_edge(\"search_wikipedia\", \"answer_question\")\n",
    "interview_builder.add_conditional_edges(\"answer_question\", route_messages,['ask_question','save_interview'])\n",
    "interview_builder.add_edge(\"save_interview\", \"write_section\")\n",
    "interview_builder.add_edge(\"write_section\", END)\n",
    "\n",
    "# Interview \n",
    "memory = MemorySaver()\n",
    "interview_graph = interview_builder.compile(checkpointer=memory).with_config(run_name=\"Conduct Interviews\")\n",
    "\n",
    "# View\n",
    "display(Image(interview_graph.get_graph().draw_mermaid_png()))"
   ]
  },
  {
   "cell_type": "code",
   "execution_count": 27,
   "metadata": {},
   "outputs": [
    {
     "name": "stdout",
     "output_type": "stream",
     "text": [
      "State Message ==> [HumanMessage(content='So you said you were writing an article on The benefits of adopting LangGraph as an agent framework?', additional_kwargs={}, response_metadata={}, id='6f8b7f77-aee1-4b60-9de4-272509cb600c')]\n"
     ]
    },
    {
     "name": "stderr",
     "output_type": "stream",
     "text": [
      "d:\\AI_dev\\ML\\project\\Agents\\Research_AI-agent\\agentenv\\Lib\\site-packages\\langchain_google_genai\\chat_models.py:388: UserWarning: Convert_system_message_to_human will be deprecated!\n",
      "  warnings.warn(\"Convert_system_message_to_human will be deprecated!\")\n"
     ]
    },
    {
     "name": "stdout",
     "output_type": "stream",
     "text": [
      "question ==>  content='Okay, here we go.\\n\\n\"Hello, I\\'m Kenji Tanaka, an independent AI consultant. I\\'m currently evaluating LangGraph for its potential use in building custom agent solutions for my clients. I understand you\\'ve been working with LangGraph. I\\'m particularly interested in understanding the *specific* benefits it offers over other agent frameworks, especially in terms of flexibility and customizability. Could you elaborate on some concrete examples where LangGraph\\'s graph-based approach truly shines, perhaps in scenarios where traditional sequential agent chains fall short?\"' additional_kwargs={} response_metadata={'prompt_feedback': {'block_reason': 0, 'safety_ratings': []}, 'finish_reason': 'STOP', 'model_name': 'gemini-2.0-flash', 'safety_ratings': []} id='run-aa541ed1-cd32-4445-bda6-704bef35557b-0' usage_metadata={'input_tokens': 304, 'output_tokens': 111, 'total_tokens': 415, 'input_token_details': {'cache_read': 0}}\n"
     ]
    },
    {
     "name": "stderr",
     "output_type": "stream",
     "text": [
      "d:\\AI_dev\\ML\\project\\Agents\\Research_AI-agent\\agentenv\\Lib\\site-packages\\langchain_google_genai\\chat_models.py:388: UserWarning: Convert_system_message_to_human will be deprecated!\n",
      "  warnings.warn(\"Convert_system_message_to_human will be deprecated!\")\n",
      "d:\\AI_dev\\ML\\project\\Agents\\Research_AI-agent\\agentenv\\Lib\\site-packages\\langchain_google_genai\\chat_models.py:388: UserWarning: Convert_system_message_to_human will be deprecated!\n",
      "  warnings.warn(\"Convert_system_message_to_human will be deprecated!\")\n"
     ]
    },
    {
     "name": "stdout",
     "output_type": "stream",
     "text": [
      "search Query wiki ==> search_query='LangGraph benefits over other agent frameworks flexibility customizability concrete examples'\n",
      "search Query ==> search_query='LangGraph benefits over other agent frameworks flexibility customizability concrete examples'\n",
      "Context ==> ['<Document href=\"https://oxylabs.io/blog/langgraph-vs-langchain\"/>\\nSumming up\\nLangChain and LangGraph both offer distinct approaches to building agents. LangChain excels in flexibility and scalability, making it ideal for complex applications that require deep integration with large language models. On the other hand, LangGraph is better suited for users looking for a more intuitive, visual approach to designing simpler agent workflows. At the end of the day, choosing between the two will depend on the specific needs of your project. [...] LangGraph\\'s visual interface and modular design make it easier to handle complex scenarios, such as multi-step reasoning or managing multiple agents interacting with various data sources. At the same time, it excels in cases where you need to design, monitor, and manage workflows in a more accessible way, compared to frameworks that require full custom coding. Some common LangGraph use cases include: [...] LangChain and LangGraph are both designed to create intelligent, autonomous agents, but they differ in their approaches and focus areas. LangChain is a flexible, modular framework primarily focused on integrating large language models (LLMs) into complex workflows, while LangGraph is a visual, low-code extension of LangChain that provides a user-friendly environment for designing agent workflows. LangChain’s strength lies in its scalability and flexibility, making it ideal for advanced AI\\n</Document>\\n\\n---\\n\\n<Document href=\"https://www.linkedin.com/pulse/what-langgraph-how-useful-building-llm-based-sarfraz-nawaz-walic\"/>\\n1.\\xa0\\xa0\\xa0 Advanced Chatbots: LangGraph\\'s ability to create cyclical graphs and manage sophisticated language tasks makes it particularly useful for developing advanced chatbots that require more flexible and customized interactions.\\n\\n2.\\xa0\\xa0\\xa0 Interactive AI Systems: The flexibility and dynamic nature of LangGraph make it well-suited for interactive AI systems that need to manage and execute complex language tasks, enabling more adaptable and customizable agent runtimes. [...] For example, a company’s conversational agent can remember the specific user’s preferences and interests to tailor its responses accordingly. Eventually allowing the company to offer more personalized services.\\n\\n\\n\\nWhat are the benefits of LangGraph over other AI libraries?\\n\\nLangGraph offers several benefits over other AI libraries for developers who want to create stateful, multi-actor applications with Large Language Models (LLMs).\\n\\nSome of these benefits are:\\n</Document>\\n\\n---\\n\\n<Document href=\"https://medium.com/@mahartariq/building-multi-agent-applications-with-langgraph-a-powerful-framework-for-ai-agents-9e362cf32c27\"/>\\nExpressiveness: LangGraph offers a flexible, open structure, allowing developers to tackle unique, complex tasks without limiting them to a single pre-set approach. This flexibility makes LangGraph ideal for customized applications and specialized workflows.\\nReliability: LangGraph includes built-in moderation and quality control loops, making it easy to keep agents on track and prevent mistakes. This feature ensures that agents perform tasks accurately and consistently. [...] LangGraph is changing the way we build multi-agent AI applications. By using a graph structure to connect different agents, LangGraph makes it easy to manage complex workflows with specialized agents working together smoothly. It’s designed to handle complex tasks like keeping track of information, coordinating the order of actions, and letting developers control each agent’s steps precisely. This makes LangGraph more flexible and powerful than other frameworks. Unlike some frameworks,\\n</Document>', '']\n"
     ]
    },
    {
     "name": "stderr",
     "output_type": "stream",
     "text": [
      "d:\\AI_dev\\ML\\project\\Agents\\Research_AI-agent\\agentenv\\Lib\\site-packages\\langchain_google_genai\\chat_models.py:388: UserWarning: Convert_system_message_to_human will be deprecated!\n",
      "  warnings.warn(\"Convert_system_message_to_human will be deprecated!\")\n"
     ]
    },
    {
     "name": "stdout",
     "output_type": "stream",
     "text": [
      "Answer ==> content=\"LangGraph offers several benefits over other AI libraries for developers who want to create stateful, multi-actor applications with Large Language Models (LLMs) [2]. LangGraph's expressiveness allows developers to tackle unique, complex tasks without being limited to a single pre-set approach, making it ideal for customized applications and specialized workflows [3]. It is designed to handle complex tasks like keeping track of information, coordinating the order of actions, and letting developers control each agent’s steps precisely [3]. LangGraph's visual interface and modular design make it easier to handle complex scenarios, such as multi-step reasoning or managing multiple agents interacting with various data sources [1]. LangGraph includes built-in moderation and quality control loops, making it easy to keep agents on track and prevent mistakes [3].\\n\\nLangGraph is particularly useful for developing advanced chatbots that require more flexible and customized interactions [2]. The flexibility and dynamic nature of LangGraph make it well-suited for interactive AI systems that need to manage and execute complex language tasks, enabling more adaptable and customizable agent runtimes [2].\\n\\n[1] https://oxylabs.io/blog/langgraph-vs-langchain\\n[2] https://www.linkedin.com/pulse/what-langgraph-how-useful-building-llm-based-sarfraz-nawaz-walic\\n[3] https://medium.com/@mahartariq/building-multi-agent-applications-with-langgraph-a-powerful-framework-for-ai-agents-9e362cf32c27\" additional_kwargs={} response_metadata={'prompt_feedback': {'block_reason': 0, 'safety_ratings': []}, 'finish_reason': 'STOP', 'model_name': 'gemini-2.0-flash', 'safety_ratings': []} id='run-d968fc37-0ce0-4b9f-a9c5-76a6ca11a816-0' usage_metadata={'input_tokens': 1427, 'output_tokens': 332, 'total_tokens': 1759, 'input_token_details': {'cache_read': 0}}\n",
      "State Message Again ==> [HumanMessage(content='So you said you were writing an article on The benefits of adopting LangGraph as an agent framework?', additional_kwargs={}, response_metadata={}, id='6f8b7f77-aee1-4b60-9de4-272509cb600c'), AIMessage(content='Okay, here we go.\\n\\n\"Hello, I\\'m Kenji Tanaka, an independent AI consultant. I\\'m currently evaluating LangGraph for its potential use in building custom agent solutions for my clients. I understand you\\'ve been working with LangGraph. I\\'m particularly interested in understanding the *specific* benefits it offers over other agent frameworks, especially in terms of flexibility and customizability. Could you elaborate on some concrete examples where LangGraph\\'s graph-based approach truly shines, perhaps in scenarios where traditional sequential agent chains fall short?\"', additional_kwargs={}, response_metadata={'prompt_feedback': {'block_reason': 0, 'safety_ratings': []}, 'finish_reason': 'STOP', 'model_name': 'gemini-2.0-flash', 'safety_ratings': []}, id='run-aa541ed1-cd32-4445-bda6-704bef35557b-0', usage_metadata={'input_tokens': 304, 'output_tokens': 111, 'total_tokens': 415, 'input_token_details': {'cache_read': 0}}), AIMessage(content=\"LangGraph offers several benefits over other AI libraries for developers who want to create stateful, multi-actor applications with Large Language Models (LLMs) [2]. LangGraph's expressiveness allows developers to tackle unique, complex tasks without being limited to a single pre-set approach, making it ideal for customized applications and specialized workflows [3]. It is designed to handle complex tasks like keeping track of information, coordinating the order of actions, and letting developers control each agent’s steps precisely [3]. LangGraph's visual interface and modular design make it easier to handle complex scenarios, such as multi-step reasoning or managing multiple agents interacting with various data sources [1]. LangGraph includes built-in moderation and quality control loops, making it easy to keep agents on track and prevent mistakes [3].\\n\\nLangGraph is particularly useful for developing advanced chatbots that require more flexible and customized interactions [2]. The flexibility and dynamic nature of LangGraph make it well-suited for interactive AI systems that need to manage and execute complex language tasks, enabling more adaptable and customizable agent runtimes [2].\\n\\n[1] https://oxylabs.io/blog/langgraph-vs-langchain\\n[2] https://www.linkedin.com/pulse/what-langgraph-how-useful-building-llm-based-sarfraz-nawaz-walic\\n[3] https://medium.com/@mahartariq/building-multi-agent-applications-with-langgraph-a-powerful-framework-for-ai-agents-9e362cf32c27\", additional_kwargs={}, response_metadata={'prompt_feedback': {'block_reason': 0, 'safety_ratings': []}, 'finish_reason': 'STOP', 'model_name': 'gemini-2.0-flash', 'safety_ratings': []}, name='Expert', id='run-d968fc37-0ce0-4b9f-a9c5-76a6ca11a816-0', usage_metadata={'input_tokens': 1427, 'output_tokens': 332, 'total_tokens': 1759, 'input_token_details': {'cache_read': 0}})]\n",
      "num_response ==> 1\n",
      "State Message ==> [HumanMessage(content='So you said you were writing an article on The benefits of adopting LangGraph as an agent framework?', additional_kwargs={}, response_metadata={}, id='6f8b7f77-aee1-4b60-9de4-272509cb600c'), AIMessage(content='Okay, here we go.\\n\\n\"Hello, I\\'m Kenji Tanaka, an independent AI consultant. I\\'m currently evaluating LangGraph for its potential use in building custom agent solutions for my clients. I understand you\\'ve been working with LangGraph. I\\'m particularly interested in understanding the *specific* benefits it offers over other agent frameworks, especially in terms of flexibility and customizability. Could you elaborate on some concrete examples where LangGraph\\'s graph-based approach truly shines, perhaps in scenarios where traditional sequential agent chains fall short?\"', additional_kwargs={}, response_metadata={'prompt_feedback': {'block_reason': 0, 'safety_ratings': []}, 'finish_reason': 'STOP', 'model_name': 'gemini-2.0-flash', 'safety_ratings': []}, id='run-aa541ed1-cd32-4445-bda6-704bef35557b-0', usage_metadata={'input_tokens': 304, 'output_tokens': 111, 'total_tokens': 415, 'input_token_details': {'cache_read': 0}}), AIMessage(content=\"LangGraph offers several benefits over other AI libraries for developers who want to create stateful, multi-actor applications with Large Language Models (LLMs) [2]. LangGraph's expressiveness allows developers to tackle unique, complex tasks without being limited to a single pre-set approach, making it ideal for customized applications and specialized workflows [3]. It is designed to handle complex tasks like keeping track of information, coordinating the order of actions, and letting developers control each agent’s steps precisely [3]. LangGraph's visual interface and modular design make it easier to handle complex scenarios, such as multi-step reasoning or managing multiple agents interacting with various data sources [1]. LangGraph includes built-in moderation and quality control loops, making it easy to keep agents on track and prevent mistakes [3].\\n\\nLangGraph is particularly useful for developing advanced chatbots that require more flexible and customized interactions [2]. The flexibility and dynamic nature of LangGraph make it well-suited for interactive AI systems that need to manage and execute complex language tasks, enabling more adaptable and customizable agent runtimes [2].\\n\\n[1] https://oxylabs.io/blog/langgraph-vs-langchain\\n[2] https://www.linkedin.com/pulse/what-langgraph-how-useful-building-llm-based-sarfraz-nawaz-walic\\n[3] https://medium.com/@mahartariq/building-multi-agent-applications-with-langgraph-a-powerful-framework-for-ai-agents-9e362cf32c27\", additional_kwargs={}, response_metadata={'prompt_feedback': {'block_reason': 0, 'safety_ratings': []}, 'finish_reason': 'STOP', 'model_name': 'gemini-2.0-flash', 'safety_ratings': []}, name='Expert', id='run-d968fc37-0ce0-4b9f-a9c5-76a6ca11a816-0', usage_metadata={'input_tokens': 1427, 'output_tokens': 332, 'total_tokens': 1759, 'input_token_details': {'cache_read': 0}})]\n"
     ]
    },
    {
     "name": "stderr",
     "output_type": "stream",
     "text": [
      "d:\\AI_dev\\ML\\project\\Agents\\Research_AI-agent\\agentenv\\Lib\\site-packages\\langchain_google_genai\\chat_models.py:388: UserWarning: Convert_system_message_to_human will be deprecated!\n",
      "  warnings.warn(\"Convert_system_message_to_human will be deprecated!\")\n"
     ]
    },
    {
     "name": "stdout",
     "output_type": "stream",
     "text": [
      "question ==>  content=\"Thank you for the overview. Kenji Tanaka here again.\\n\\nThe points about expressiveness and handling complex tasks are helpful, but I'm looking for more *specific* examples. Could you describe a particular use case where LangGraph's graph structure enabled a solution that would have been significantly more difficult or impossible to achieve with a traditional sequential chain? Perhaps a scenario involving dynamic agent collaboration or complex state management? I'm trying to understand the *unique* advantages in practice.\" additional_kwargs={} response_metadata={'prompt_feedback': {'block_reason': 0, 'safety_ratings': []}, 'finish_reason': 'STOP', 'model_name': 'gemini-2.0-flash', 'safety_ratings': []} id='run-beac7b18-7530-42f8-969f-0d25b6bbc6e2-0' usage_metadata={'input_tokens': 1059, 'output_tokens': 97, 'total_tokens': 1156, 'input_token_details': {'cache_read': 0}}\n"
     ]
    },
    {
     "name": "stderr",
     "output_type": "stream",
     "text": [
      "d:\\AI_dev\\ML\\project\\Agents\\Research_AI-agent\\agentenv\\Lib\\site-packages\\langchain_google_genai\\chat_models.py:388: UserWarning: Convert_system_message_to_human will be deprecated!\n",
      "  warnings.warn(\"Convert_system_message_to_human will be deprecated!\")\n",
      "d:\\AI_dev\\ML\\project\\Agents\\Research_AI-agent\\agentenv\\Lib\\site-packages\\langchain_google_genai\\chat_models.py:388: UserWarning: Convert_system_message_to_human will be deprecated!\n",
      "  warnings.warn(\"Convert_system_message_to_human will be deprecated!\")\n"
     ]
    },
    {
     "name": "stdout",
     "output_type": "stream",
     "text": [
      "search Query ==> search_query='LangGraph use cases vs sequential agent chains: dynamic agent collaboration and complex state management examples'\n",
      "search Query wiki ==> search_query='LangGraph use cases vs sequential chains: dynamic agent collaboration, complex state management'\n",
      "Context ==> ['<Document href=\"https://oxylabs.io/blog/langgraph-vs-langchain\"/>\\nSumming up\\nLangChain and LangGraph both offer distinct approaches to building agents. LangChain excels in flexibility and scalability, making it ideal for complex applications that require deep integration with large language models. On the other hand, LangGraph is better suited for users looking for a more intuitive, visual approach to designing simpler agent workflows. At the end of the day, choosing between the two will depend on the specific needs of your project. [...] LangGraph\\'s visual interface and modular design make it easier to handle complex scenarios, such as multi-step reasoning or managing multiple agents interacting with various data sources. At the same time, it excels in cases where you need to design, monitor, and manage workflows in a more accessible way, compared to frameworks that require full custom coding. Some common LangGraph use cases include: [...] LangChain and LangGraph are both designed to create intelligent, autonomous agents, but they differ in their approaches and focus areas. LangChain is a flexible, modular framework primarily focused on integrating large language models (LLMs) into complex workflows, while LangGraph is a visual, low-code extension of LangChain that provides a user-friendly environment for designing agent workflows. LangChain’s strength lies in its scalability and flexibility, making it ideal for advanced AI\\n</Document>\\n\\n---\\n\\n<Document href=\"https://www.linkedin.com/pulse/what-langgraph-how-useful-building-llm-based-sarfraz-nawaz-walic\"/>\\n1.\\xa0\\xa0\\xa0 Advanced Chatbots: LangGraph\\'s ability to create cyclical graphs and manage sophisticated language tasks makes it particularly useful for developing advanced chatbots that require more flexible and customized interactions.\\n\\n2.\\xa0\\xa0\\xa0 Interactive AI Systems: The flexibility and dynamic nature of LangGraph make it well-suited for interactive AI systems that need to manage and execute complex language tasks, enabling more adaptable and customizable agent runtimes. [...] For example, a company’s conversational agent can remember the specific user’s preferences and interests to tailor its responses accordingly. Eventually allowing the company to offer more personalized services.\\n\\n\\n\\nWhat are the benefits of LangGraph over other AI libraries?\\n\\nLangGraph offers several benefits over other AI libraries for developers who want to create stateful, multi-actor applications with Large Language Models (LLMs).\\n\\nSome of these benefits are:\\n</Document>\\n\\n---\\n\\n<Document href=\"https://medium.com/@mahartariq/building-multi-agent-applications-with-langgraph-a-powerful-framework-for-ai-agents-9e362cf32c27\"/>\\nExpressiveness: LangGraph offers a flexible, open structure, allowing developers to tackle unique, complex tasks without limiting them to a single pre-set approach. This flexibility makes LangGraph ideal for customized applications and specialized workflows.\\nReliability: LangGraph includes built-in moderation and quality control loops, making it easy to keep agents on track and prevent mistakes. This feature ensures that agents perform tasks accurately and consistently. [...] LangGraph is changing the way we build multi-agent AI applications. By using a graph structure to connect different agents, LangGraph makes it easy to manage complex workflows with specialized agents working together smoothly. It’s designed to handle complex tasks like keeping track of information, coordinating the order of actions, and letting developers control each agent’s steps precisely. This makes LangGraph more flexible and powerful than other frameworks. Unlike some frameworks,\\n</Document>', '', '<Document href=\"https://www.getzep.com/ai-agents/langchain-agents-langgraph\"/>\\nManagement:LangChain: Provides basic memory management through context windows, which may struggle with maintaining state over long or complex interactions.LangGraph: Offers advanced state management with persistent states across nodes.Use Case Fit:LangChain: Suitable for content generation, customer support chatbots, and language translation.LangGraph: Better for applications requiring detailed workflow management like social network analysis, fraud detection, and multi-agent coordination. [...] LangChain is ideal for simpler, linear task chains, offering flexibility and modularity. In contrast, LangGraph shines in managing more complex workflows that require advanced orchestration and state management. The ability to handle persistent states and incorporate human-in-the-loop workflows further enhances its capability to build sophisticated AI agents. [...] Concept | Description\\nOverview of LangChain vs. LangGraph | LangChain is a flexible framework for simple, linear LLM workflows, excelling in task chaining and modularity. LangGraph handles complex workflows through graph-based orchestration, persistent state management, and multi-agent coordination, making it better suited for advanced applications.\\n</Document>\\n\\n---\\n\\n<Document href=\"https://medium.com/@tahirbalarabe2/langchain-vs-langgraph-choosing-the-right-framework-0e393513da3d\"/>\\nThe decision depends on the specific use case and project objectives. If the workflow is simple, linear, and requires quick prototyping, LangChain is a good choice. However, if the workflow is complex, involves loops, cycles, branching, or requires fine-grained control over state management, LangGraph is more appropriate. There’s no inherently “right” or “wrong” framework; it’s about selecting the tool that best fits the complexity and requirements of the task at hand. [...] LangChain is generally easier to understand and implement, especially for simpler workflows. Its straightforward structure and pre-built integrations contribute to a quicker learning curve. LangGraph, with its focus on complex workflows and explicit state management, is more complicated and requires more time to master. The complexity arises from the need to manage intricate data flows, task dependencies, and potentially multi-agent interactions. [...] Which framework offers more flexibility, and why?\\nLangGraph provides greater flexibility, particularly when dealing with complex workflows involving branching, nested conditions, merging, loops, and dynamic transitions that depend on runtime state. Although LangChain can handle simpler linear workflows and has limited support for branching, its lack of native support for iterations and complex state management makes it less adaptable to intricate scenarios.\\n</Document>\\n\\n---\\n\\n<Document href=\"http://blog.lamatic.ai/guides/langgraph-vs-langchain/\"/>\\nLangChain can pass information through the chain, but doesn’t easily maintain persistent state across multiple runs. LangGraph has robust state management. The state is a core component that all nodes can access and modify, enabling more complex, context-aware behaviors.\\n\\nLanggraph vs Langchain: Use Cases [...] LangChain excels at sequential tasks, like retrieving, processing, and outputting data. LangGraph is better suited for complex, adaptive systems that require ongoing interaction, such as virtual assistants that need to maintain context over long conversations.\\n\\nWhich Should You Use?\\n</Document>', '<Document source=\"https://en.wikipedia.org/wiki/Deep_learning\" page=\"\"/>\\nDeep learning is a subset of machine learning that focuses on utilizing multilayered neural networks to perform tasks such as classification, regression, and representation learning. The field takes inspiration from biological neuroscience and is centered around stacking artificial neurons into layers and \"training\" them to process data. The adjective \"deep\" refers to the use of multiple layers (ranging from three to several hundred or thousands) in the network. Methods used can be either supervised, semi-supervised or unsupervised.\\nSome common deep learning network architectures include fully connected networks, deep belief networks, recurrent neural networks, convolutional neural networks, generative adversarial networks, transformers, and neural radiance fields. These architectures have been applied to fields including computer vision, speech recognition, natural language processing, machine translation, bioinformatics, drug design, medical image analysis, climate science, material inspection and board game programs, where they have produced results comparable to and in some cases surpassing human expert performance.\\nEarly forms of neural networks were inspired by information processing and distributed communication nodes in biological systems, particularly the human brain. However, current neural networks do not intend to model the brain function of organisms, and are generally seen as low-quality models for that purpose.\\n\\n\\n== Overview ==\\nMost modern deep learning models are based on multi-layered neural networks such as convolutional neural networks and transformers, although they can also include propositional formulas or latent variables organized layer-wise in deep generative models such as the nodes in deep belief networks and deep Boltzmann machines.\\nFundamentally, deep learning refers to a class of machine learning algorithms in which a hierarchy of layers is used to transform input data into a progressively more abstract and composite representation. For example, in an image recognition model, the raw input may be an image (represented as a tensor of pixels). The first representational layer may attempt to identify basic shapes such as lines and circles, the second layer may compose and encode arrangements of edges, the third layer may encode a nose and eyes, and the fourth layer may recognize that the image contains a face.\\nImportantly, a deep learning process can learn which features to optimally place at which level on its own. Prior to deep learning, machine learning techniques often involved hand-crafted feature engineering to transform the data into a more suitable representation for a classification algorithm to operate on. In the deep learning approach, features are not hand-crafted and the model discovers useful feature representations from the data automatically. This does not eliminate the need for hand-tuning; for example, varying numbers of layers and layer sizes can provide different degrees of abstraction.\\nThe word \"deep\" in \"deep learning\" refers to the number of layers through which the data is transformed. More precisely, deep learning systems have a substantial credit assignment path (CAP) depth. The CAP is the chain of transformations from input to output. CAPs describe potentially causal connections between input and output. For a feedforward neural network, the depth of the CAPs is that of the network and is the number of hidden layers plus one (as the output layer is also parameterized). For recurrent neural networks, in which a signal may propagate through a layer more than once, the CAP depth is potentially unlimited. No universally agreed-upon threshold of depth divides shallow learning from deep learning, but most researchers agree that deep learning involves CAP depth higher than two. CAP of depth two has been shown to be a universal approximator in the sense that it can emulate any function. Beyond that, more layers do not add to the function approximator ability of the network. Deep mo\\n</Document>']\n"
     ]
    },
    {
     "name": "stderr",
     "output_type": "stream",
     "text": [
      "d:\\AI_dev\\ML\\project\\Agents\\Research_AI-agent\\agentenv\\Lib\\site-packages\\langchain_google_genai\\chat_models.py:388: UserWarning: Convert_system_message_to_human will be deprecated!\n",
      "  warnings.warn(\"Convert_system_message_to_human will be deprecated!\")\n"
     ]
    },
    {
     "name": "stdout",
     "output_type": "stream",
     "text": [
      "Answer ==> content='LangGraph shines in managing complex workflows that require advanced orchestration and state management [4]. It offers advanced state management with persistent states across nodes [4]. LangGraph is better for applications requiring detailed workflow management like social network analysis, fraud detection, and multi-agent coordination [4]. A company’s conversational agent can remember the specific user’s preferences and interests to tailor its responses accordingly [2]. LangGraph provides greater flexibility, particularly when dealing with complex workflows involving branching, nested conditions, merging, loops, and dynamic transitions that depend on runtime state [5]. LangGraph is better suited for complex, adaptive systems that require ongoing interaction, such as virtual assistants that need to maintain context over long conversations [6].\\n\\n[1] https://oxylabs.io/blog/langgraph-vs-langchain\\n[2] https://www.linkedin.com/pulse/what-langgraph-how-useful-building-llm-based-sarfraz-nawaz-walic\\n[3] https://medium.com/@mahartariq/building-multi-agent-applications-with-langgraph-a-powerful-framework-for-ai-agents-9e362cf32c27\\n[4] https://www.getzep.com/ai-agents/langchain-agents-langgraph\\n[5] https://medium.com/@tahirbalarabe2/langchain-vs-langgraph-choosing-the-right-framework-0e393513da3d\\n[6] http://blog.lamatic.ai/guides/langgraph-vs-langchain/' additional_kwargs={} response_metadata={'prompt_feedback': {'block_reason': 0, 'safety_ratings': []}, 'finish_reason': 'STOP', 'model_name': 'gemini-2.0-flash', 'safety_ratings': []} id='run-08884b22-47b8-4d3f-b940-0a05ecc6e696-0' usage_metadata={'input_tokens': 3621, 'output_tokens': 344, 'total_tokens': 3965, 'input_token_details': {'cache_read': 0}}\n",
      "State Message Again ==> [HumanMessage(content='So you said you were writing an article on The benefits of adopting LangGraph as an agent framework?', additional_kwargs={}, response_metadata={}, id='6f8b7f77-aee1-4b60-9de4-272509cb600c'), AIMessage(content='Okay, here we go.\\n\\n\"Hello, I\\'m Kenji Tanaka, an independent AI consultant. I\\'m currently evaluating LangGraph for its potential use in building custom agent solutions for my clients. I understand you\\'ve been working with LangGraph. I\\'m particularly interested in understanding the *specific* benefits it offers over other agent frameworks, especially in terms of flexibility and customizability. Could you elaborate on some concrete examples where LangGraph\\'s graph-based approach truly shines, perhaps in scenarios where traditional sequential agent chains fall short?\"', additional_kwargs={}, response_metadata={'prompt_feedback': {'block_reason': 0, 'safety_ratings': []}, 'finish_reason': 'STOP', 'model_name': 'gemini-2.0-flash', 'safety_ratings': []}, id='run-aa541ed1-cd32-4445-bda6-704bef35557b-0', usage_metadata={'input_tokens': 304, 'output_tokens': 111, 'total_tokens': 415, 'input_token_details': {'cache_read': 0}}), AIMessage(content=\"LangGraph offers several benefits over other AI libraries for developers who want to create stateful, multi-actor applications with Large Language Models (LLMs) [2]. LangGraph's expressiveness allows developers to tackle unique, complex tasks without being limited to a single pre-set approach, making it ideal for customized applications and specialized workflows [3]. It is designed to handle complex tasks like keeping track of information, coordinating the order of actions, and letting developers control each agent’s steps precisely [3]. LangGraph's visual interface and modular design make it easier to handle complex scenarios, such as multi-step reasoning or managing multiple agents interacting with various data sources [1]. LangGraph includes built-in moderation and quality control loops, making it easy to keep agents on track and prevent mistakes [3].\\n\\nLangGraph is particularly useful for developing advanced chatbots that require more flexible and customized interactions [2]. The flexibility and dynamic nature of LangGraph make it well-suited for interactive AI systems that need to manage and execute complex language tasks, enabling more adaptable and customizable agent runtimes [2].\\n\\n[1] https://oxylabs.io/blog/langgraph-vs-langchain\\n[2] https://www.linkedin.com/pulse/what-langgraph-how-useful-building-llm-based-sarfraz-nawaz-walic\\n[3] https://medium.com/@mahartariq/building-multi-agent-applications-with-langgraph-a-powerful-framework-for-ai-agents-9e362cf32c27\", additional_kwargs={}, response_metadata={'prompt_feedback': {'block_reason': 0, 'safety_ratings': []}, 'finish_reason': 'STOP', 'model_name': 'gemini-2.0-flash', 'safety_ratings': []}, name='Expert', id='run-d968fc37-0ce0-4b9f-a9c5-76a6ca11a816-0', usage_metadata={'input_tokens': 1427, 'output_tokens': 332, 'total_tokens': 1759, 'input_token_details': {'cache_read': 0}}), AIMessage(content=\"Thank you for the overview. Kenji Tanaka here again.\\n\\nThe points about expressiveness and handling complex tasks are helpful, but I'm looking for more *specific* examples. Could you describe a particular use case where LangGraph's graph structure enabled a solution that would have been significantly more difficult or impossible to achieve with a traditional sequential chain? Perhaps a scenario involving dynamic agent collaboration or complex state management? I'm trying to understand the *unique* advantages in practice.\", additional_kwargs={}, response_metadata={'prompt_feedback': {'block_reason': 0, 'safety_ratings': []}, 'finish_reason': 'STOP', 'model_name': 'gemini-2.0-flash', 'safety_ratings': []}, id='run-beac7b18-7530-42f8-969f-0d25b6bbc6e2-0', usage_metadata={'input_tokens': 1059, 'output_tokens': 97, 'total_tokens': 1156, 'input_token_details': {'cache_read': 0}}), AIMessage(content='LangGraph shines in managing complex workflows that require advanced orchestration and state management [4]. It offers advanced state management with persistent states across nodes [4]. LangGraph is better for applications requiring detailed workflow management like social network analysis, fraud detection, and multi-agent coordination [4]. A company’s conversational agent can remember the specific user’s preferences and interests to tailor its responses accordingly [2]. LangGraph provides greater flexibility, particularly when dealing with complex workflows involving branching, nested conditions, merging, loops, and dynamic transitions that depend on runtime state [5]. LangGraph is better suited for complex, adaptive systems that require ongoing interaction, such as virtual assistants that need to maintain context over long conversations [6].\\n\\n[1] https://oxylabs.io/blog/langgraph-vs-langchain\\n[2] https://www.linkedin.com/pulse/what-langgraph-how-useful-building-llm-based-sarfraz-nawaz-walic\\n[3] https://medium.com/@mahartariq/building-multi-agent-applications-with-langgraph-a-powerful-framework-for-ai-agents-9e362cf32c27\\n[4] https://www.getzep.com/ai-agents/langchain-agents-langgraph\\n[5] https://medium.com/@tahirbalarabe2/langchain-vs-langgraph-choosing-the-right-framework-0e393513da3d\\n[6] http://blog.lamatic.ai/guides/langgraph-vs-langchain/', additional_kwargs={}, response_metadata={'prompt_feedback': {'block_reason': 0, 'safety_ratings': []}, 'finish_reason': 'STOP', 'model_name': 'gemini-2.0-flash', 'safety_ratings': []}, name='Expert', id='run-08884b22-47b8-4d3f-b940-0a05ecc6e696-0', usage_metadata={'input_tokens': 3621, 'output_tokens': 344, 'total_tokens': 3965, 'input_token_details': {'cache_read': 0}})]\n",
      "num_response ==> 2\n"
     ]
    },
    {
     "name": "stderr",
     "output_type": "stream",
     "text": [
      "d:\\AI_dev\\ML\\project\\Agents\\Research_AI-agent\\agentenv\\Lib\\site-packages\\langchain_google_genai\\chat_models.py:388: UserWarning: Convert_system_message_to_human will be deprecated!\n",
      "  warnings.warn(\"Convert_system_message_to_human will be deprecated!\")\n"
     ]
    },
    {
     "data": {
      "text/markdown": [
       "## LangGraph: Tailoring Agent Solutions with Flexible Graph Structures\n",
       "\n",
       "### Summary\n",
       "\n",
       "LangGraph and LangChain are frameworks designed for building intelligent agents, but they differ significantly in their approach and capabilities [1]. LangChain offers flexibility and scalability, making it suitable for complex applications deeply integrated with large language models (LLMs) [1]. LangGraph, on the other hand, provides a more intuitive, visual approach to designing agent workflows, particularly excelling in scenarios requiring multi-step reasoning or managing interactions between multiple agents and data sources [1]. LangGraph's strength lies in its ability to handle complex workflows through graph-based orchestration and persistent state management [2, 4]. This makes it well-suited for applications needing detailed workflow management, such as fraud detection and multi-agent coordination [4].\n",
       "\n",
       "Key insights include:\n",
       "\n",
       "1.  **Flexibility and Customization:** LangGraph offers a flexible, open structure, allowing developers to tackle unique, complex tasks without being limited to a single pre-set approach [3]. This expressiveness makes it ideal for customized applications and specialized workflows [3].\n",
       "2.  **State Management:** LangGraph provides advanced state management with persistent states across nodes, enabling more complex, context-aware behaviors [4, 6]. Unlike LangChain, which may struggle with maintaining state over long or complex interactions, LangGraph's robust state management is a core component that all nodes can access and modify [4, 6].\n",
       "3.  **Workflow Complexity:** LangGraph is more appropriate for complex workflows involving loops, cycles, branching, or requiring fine-grained control over state management [5]. It is designed to manage intricate data flows, task dependencies, and potentially multi-agent interactions [5].\n",
       "4.  **Use Cases:** LangGraph is particularly useful for developing advanced chatbots that require more flexible and customized interactions [2]. Its dynamic nature makes it well-suited for interactive AI systems that need to manage and execute complex language tasks, enabling more adaptable and customizable agent runtimes [2].\n",
       "\n",
       "While LangChain is easier to understand and implement for simpler, linear workflows, LangGraph offers greater flexibility and control for intricate scenarios, making it a powerful tool for tailoring agent solutions to specific client needs [5].\n",
       "\n",
       "### Sources\n",
       "\n",
       "[1] https://oxylabs.io/blog/langgraph-vs-langchain  \n",
       "[2] https://www.linkedin.com/pulse/what-langgraph-how-useful-building-llm-based-sarfraz-nawaz-walic  \n",
       "[3] https://medium.com/@mahartariq/building-multi-agent-applications-with-langgraph-a-powerful-framework-for-ai-agents-9e362cf32c27  \n",
       "[4] https://www.getzep.com/ai-agents/langchain-agents-langgraph  \n",
       "[5] https://medium.com/@tahirbalarabe2/langchain-vs-langgraph-choosing-the-right-framework-0e393513da3d  \n",
       "[6] http://blog.lamatic.ai/guides/langgraph-vs-langchain/"
      ],
      "text/plain": [
       "<IPython.core.display.Markdown object>"
      ]
     },
     "execution_count": 27,
     "metadata": {},
     "output_type": "execute_result"
    }
   ],
   "source": [
    "from IPython.display import Markdown\n",
    "\n",
    "messages = [HumanMessage(f\"So you said you were writing an article on {topic}?\")]\n",
    "# messages = [{\"role\": \"user\", \"content\": f\"So you said you were writing an article on {topic}?\"}]\n",
    "# print(messages[0]['role']['content'])\n",
    "thread = {\"configurable\" : {\"thread_id\" : \"8\"}}\n",
    "interview = interview_graph.invoke({\"analyst\": analysts[2], \"messages\": messages, \"max_num_turns\": 2}, thread)\n",
    "Markdown(interview[\"sections\"][0])"
   ]
  },
  {
   "cell_type": "code",
   "execution_count": 325,
   "metadata": {},
   "outputs": [],
   "source": [
    "# memory.delete_thread(thread[\"configurable\"][\"thread_id\"])"
   ]
  },
  {
   "cell_type": "code",
   "execution_count": null,
   "metadata": {},
   "outputs": [],
   "source": []
  },
  {
   "cell_type": "code",
   "execution_count": null,
   "metadata": {},
   "outputs": [],
   "source": []
  }
 ],
 "metadata": {
  "kernelspec": {
   "display_name": "agentenv",
   "language": "python",
   "name": "python3"
  },
  "language_info": {
   "codemirror_mode": {
    "name": "ipython",
    "version": 3
   },
   "file_extension": ".py",
   "mimetype": "text/x-python",
   "name": "python",
   "nbconvert_exporter": "python",
   "pygments_lexer": "ipython3",
   "version": "3.12.1"
  }
 },
 "nbformat": 4,
 "nbformat_minor": 2
}
